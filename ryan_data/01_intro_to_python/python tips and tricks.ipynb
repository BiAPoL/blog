{
 "cells": [
  {
   "cell_type": "markdown",
   "id": "f2ca8187",
   "metadata": {},
   "source": [
    "Something that you will likely come across a lot is iteration. Ususally you iterate over timepoints, objects or results by using loops. The for-loop is the most common and there are a few tips and tricks that can make your life easier when using loops. \n",
    "The first one I want to show you is the enumerate function, as I use this quite frequently. It allows you to have an additional index to what you are looping through in the loop:"
   ]
  },
  {
   "cell_type": "code",
   "execution_count": 1,
   "id": "1371bf77",
   "metadata": {},
   "outputs": [
    {
     "name": "stdout",
     "output_type": "stream",
     "text": [
      "gaussian blur\n",
      "background subtraction\n",
      "thresholding\n",
      "analysis\n"
     ]
    }
   ],
   "source": [
    "# This is our list that we will loop through and at the moment it contains strings\n",
    "loop_list = ['gaussian blur','background subtraction', 'thresholding', 'analysis']\n",
    "\n",
    "# we can loop through it with a for loop and see what is printed out\n",
    "for method in loop_list:\n",
    "    print(method)"
   ]
  },
  {
   "cell_type": "markdown",
   "id": "99d1cc08",
   "metadata": {},
   "source": [
    "If we want to know what index each element has we can use enumerate to get this information:"
   ]
  },
  {
   "cell_type": "code",
   "execution_count": 2,
   "id": "496def8a",
   "metadata": {},
   "outputs": [
    {
     "name": "stdout",
     "output_type": "stream",
     "text": [
      "gaussian bluris at index 0\n",
      "background subtractionis at index 1\n",
      "thresholdingis at index 2\n",
      "analysisis at index 3\n"
     ]
    }
   ],
   "source": [
    "# The enumerate function returns the index of the element of the list and the actual element as a tupule and we can acess \n",
    "# both at the same time through this way of for looping\n",
    "for index, method in enumerate(loop_list):\n",
    "    \n",
    "    # The curly brackets below are a placeholder in the string. Whatever is in the brackets after .format() will be inserted\n",
    "    # as a string. This is extremely useful when you want to include indices in a  string, for example when you are saving\n",
    "    # files! \n",
    "    print(method + 'is at index {}'.format(index))"
   ]
  },
  {
   "cell_type": "markdown",
   "id": "58d4fd23",
   "metadata": {},
   "source": [
    "The zip-operator allows you to similarly loop with two variables but you are free to chose what they are. I use it mainly to loop through two lists at the same time for example if i need to work with two images at the same time. If the two lists are not of the same length you need to be cautious as it will only loop through the shorter list and leave out variables of the longer list. Here I will show the simplest case of printing two words together from two lists:"
   ]
  },
  {
   "cell_type": "code",
   "execution_count": 3,
   "id": "c9270e39",
   "metadata": {},
   "outputs": [
    {
     "name": "stdout",
     "output_type": "stream",
     "text": [
      "gaussian blurtook 12 seconds\n",
      "background subtractiontook 45 seconds\n",
      "thresholdingtook 67 seconds\n",
      "analysistook 120 seconds\n"
     ]
    }
   ],
   "source": [
    "# This is the list of methods we used before\n",
    "loop_list = ['gaussian blur','background subtraction', 'thresholding', 'analysis']\n",
    "\n",
    "# These are our processingtimes, notice it has one element more than our methods\n",
    "processingtimes = [12,45,67,120,78]\n",
    "\n",
    "# with the zip operator we can loop through both\n",
    "for method, time in zip(loop_list, processingtimes):\n",
    "    print(method + 'took {} seconds'.format(time))"
   ]
  },
  {
   "cell_type": "markdown",
   "id": "31603b49",
   "metadata": {},
   "source": [
    "What zip actually does is create a list of tupules of the two input arrays. We can then acess both of these elements at once when using a for-loop. If one list is shorter then it will only loop through the indices of the shorter list as we can see that the last element in processingtimes is not printed."
   ]
  },
  {
   "cell_type": "markdown",
   "id": "541ad852",
   "metadata": {},
   "source": [
    "The last trick I want to show you is list comprehension. I love it because it gets rid of a lot of lines of code that you have to write manually otherwise. I will show you the long version and how list comprehension can replace these lines. In this basic example we will do some basic math with two lists  and save the results in a third:"
   ]
  },
  {
   "cell_type": "code",
   "execution_count": 9,
   "id": "8ec1ac93",
   "metadata": {},
   "outputs": [
    {
     "name": "stdout",
     "output_type": "stream",
     "text": [
      "[4, 4, 9, 2]\n"
     ]
    }
   ],
   "source": [
    "# These are the numbers we will subtract from eachother\n",
    "numbers1 = [5, 7, 10, 4]\n",
    "numbers2 = [1, 3, 1, 2]\n",
    "\n",
    "# This is the empty list we will savethe results in\n",
    "results = []\n",
    "\n",
    "# To subtract numbers2 from numbers1 we have to iterate over both which we can do with the zip function\n",
    "for numb1, numb2 in zip(numbers1, numbers2):\n",
    "    # doing the math\n",
    "    result = numb1 - numb2\n",
    "    \n",
    "    # adding the result to the list of results\n",
    "    results.append(result)\n",
    "    \n",
    "print(results)"
   ]
  },
  {
   "cell_type": "markdown",
   "id": "b7ef8d36",
   "metadata": {},
   "source": [
    "With list comprehension we can write the above code in only one line:"
   ]
  },
  {
   "cell_type": "code",
   "execution_count": 11,
   "id": "8365d986",
   "metadata": {},
   "outputs": [
    {
     "name": "stdout",
     "output_type": "stream",
     "text": [
      "[4, 4, 9, 2]\n"
     ]
    }
   ],
   "source": [
    "# Writing the for loop as a list comprehension\n",
    "results_comprehension = [numb1-numb2 for numb1, numb2 in zip(numbers1, numbers2)]\n",
    "\n",
    "print (results_comprehension)"
   ]
  },
  {
   "cell_type": "markdown",
   "id": "ee26500a",
   "metadata": {},
   "source": [
    "What we are doing is writing the contents of the for loop inside array brackets. This makes creating new lists much more short  and I find the code to be a lot cleaner. This method also works for dictionaries and if you want to find out more some links are [here](https://www.w3schools.com/python/python_lists_comprehension.asp) and [here](https://stackoverflow.com/questions/5352546/extract-subset-of-key-value-pairs-from-python-dictionary-object)."
   ]
  },
  {
   "cell_type": "code",
   "execution_count": null,
   "id": "cee74a8c",
   "metadata": {},
   "outputs": [],
   "source": []
  }
 ],
 "metadata": {
  "kernelspec": {
   "display_name": "Python 3",
   "language": "python",
   "name": "python3"
  },
  "language_info": {
   "codemirror_mode": {
    "name": "ipython",
    "version": 3
   },
   "file_extension": ".py",
   "mimetype": "text/x-python",
   "name": "python",
   "nbconvert_exporter": "python",
   "pygments_lexer": "ipython3",
   "version": "3.8.5"
  }
 },
 "nbformat": 4,
 "nbformat_minor": 5
}
