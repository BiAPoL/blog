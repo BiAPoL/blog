{
 "cells": [
  {
   "cell_type": "code",
   "execution_count": 1,
   "id": "5517bf8c",
   "metadata": {},
   "outputs": [],
   "source": [
    "from skimage.io import imread, imshow, imsave\n",
    "import os\n",
    "import imagej"
   ]
  },
  {
   "cell_type": "code",
   "execution_count": 2,
   "id": "78135d13",
   "metadata": {},
   "outputs": [],
   "source": [
    "ij = imagej.init('c:/programs/fiji-win64/Fiji.app/')"
   ]
  },
  {
   "cell_type": "code",
   "execution_count": 3,
   "id": "648584c4",
   "metadata": {},
   "outputs": [
    {
     "data": {
      "text/plain": [
       "'C:/structure/code/biapol_blog/robert_haase/pyimagej/'"
      ]
     },
     "execution_count": 3,
     "metadata": {},
     "output_type": "execute_result"
    }
   ],
   "source": [
    "current_directory = os.getcwd()\n",
    "# deal with backslashes \\ on Windows; all operating systems acceppt /\n",
    "current_directory = current_directory.replace(\"\\\\\", \"/\") + \"/\"\n",
    "current_directory"
   ]
  },
  {
   "cell_type": "code",
   "execution_count": 4,
   "id": "d8c7ea98",
   "metadata": {},
   "outputs": [
    {
     "name": "stdout",
     "output_type": "stream",
     "text": [
      "\n",
      "open(\"C:/structure/code/biapol_blog/robert_haase/pyimagej/blobs.tif\")\n",
      "\n",
      "run(\"Invert LUT\");\n",
      "setAutoThreshold(\"Otsu\");\n",
      "setOption(\"BlackBackground\", true);\n",
      "run(\"Convert to Mask\");\n",
      "run(\"Analyze Particles...\", \"  show=[Count Masks]\");\n",
      "\n",
      "saveAs(\"Tiff\", \"C:/structure/code/biapol_blog/robert_haase/pyimagej/blobs_segmented.tif\")\n",
      "\n"
     ]
    }
   ],
   "source": [
    "macro_code = \"\"\"\n",
    "open(\"{path}blobs.tif\")\n",
    "\n",
    "run(\"Invert LUT\");\n",
    "setAutoThreshold(\"Otsu\");\n",
    "setOption(\"BlackBackground\", true);\n",
    "run(\"Convert to Mask\");\n",
    "run(\"Analyze Particles...\", \"  show=[Count Masks]\");\n",
    "\n",
    "saveAs(\"Tiff\", \"{path}blobs_segmented.tif\")\n",
    "\"\"\".format(path=current_directory)\n",
    "\n",
    "print(macro_code)"
   ]
  },
  {
   "cell_type": "code",
   "execution_count": 5,
   "id": "3f002c52",
   "metadata": {},
   "outputs": [
    {
     "name": "stdout",
     "output_type": "stream",
     "text": [
      "64\n"
     ]
    }
   ],
   "source": [
    "ij.py.run_macro(macro_code)\n",
    "image = imread(\"blobs_segmented.tif\")\n",
    "print(image.max())"
   ]
  },
  {
   "cell_type": "code",
   "execution_count": 6,
   "id": "84716895",
   "metadata": {},
   "outputs": [
    {
     "name": "stdout",
     "output_type": "stream",
     "text": [
      "128\n"
     ]
    }
   ],
   "source": [
    "ij.py.run_macro(macro_code)\n",
    "\n",
    "image = imread(\"blobs_segmented.tif\")\n",
    "print(image.max())"
   ]
  },
  {
   "cell_type": "code",
   "execution_count": 7,
   "id": "a2211a1a",
   "metadata": {},
   "outputs": [
    {
     "name": "stdout",
     "output_type": "stream",
     "text": [
      "192\n"
     ]
    }
   ],
   "source": [
    "ij.py.run_macro(macro_code)\n",
    "\n",
    "image = imread(\"blobs_segmented.tif\")\n",
    "print(image.max())"
   ]
  },
  {
   "cell_type": "code",
   "execution_count": null,
   "id": "4cc79f7f",
   "metadata": {},
   "outputs": [],
   "source": []
  }
 ],
 "metadata": {
  "kernelspec": {
   "display_name": "Python 3 (ipykernel)",
   "language": "python",
   "name": "python3"
  },
  "language_info": {
   "codemirror_mode": {
    "name": "ipython",
    "version": 3
   },
   "file_extension": ".py",
   "mimetype": "text/x-python",
   "name": "python",
   "nbconvert_exporter": "python",
   "pygments_lexer": "ipython3",
   "version": "3.8.10"
  }
 },
 "nbformat": 4,
 "nbformat_minor": 5
}
